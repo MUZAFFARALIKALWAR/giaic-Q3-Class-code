{
  "nbformat": 4,
  "nbformat_minor": 0,
  "metadata": {
    "colab": {
      "provenance": [],
      "authorship_tag": "ABX9TyNkSSxPZWZuxSfOHq+MQKMF",
      "include_colab_link": true
    },
    "kernelspec": {
      "name": "python3",
      "display_name": "Python 3"
    },
    "language_info": {
      "name": "python"
    }
  },
  "cells": [
    {
      "cell_type": "markdown",
      "metadata": {
        "id": "view-in-github",
        "colab_type": "text"
      },
      "source": [
        "<a href=\"https://colab.research.google.com/github/MUZAFFARALIKALWAR/giaic-Q3-Class-code/blob/main/class_8_oop.ipynb\" target=\"_parent\"><img src=\"https://colab.research.google.com/assets/colab-badge.svg\" alt=\"Open In Colab\"/></a>"
      ]
    },
    {
      "cell_type": "code",
      "execution_count": null,
      "metadata": {
        "colab": {
          "base_uri": "https://localhost:8080/"
        },
        "id": "1Jd0f5RaPIRw",
        "outputId": "5f5066a4-e063-4490-82ea-9399e21837c2"
      },
      "outputs": [
        {
          "output_type": "stream",
          "name": "stdout",
          "text": [
            "Äli\n"
          ]
        }
      ],
      "source": [
        "class BankAccount():\n",
        "  def __init__(self,owner_name):\n",
        "    self.owner_name = owner_name\n",
        "    self._balance = 1000\n",
        "\n",
        "  def deposit(self,amount):\n",
        "    self._balance += amount\n",
        "    print(f\"Amount deposited {amount}\")\n"
      ]
    },
    {
      "cell_type": "code",
      "source": [
        "class BusinessAccount(BankAccount):\n",
        "  def __init__(self,company_name,owner_name):\n",
        "    super().__init__(owner_name)\n",
        "    self.company_name = company_name\n",
        "\n",
        "business_account = BusinessAccount(\"Amazon\",\"Äli\")\n",
        "\n",
        "print(business_account.company_name)\n",
        "print(business_account.owner_name)\n",
        "print(business_account._balance)"
      ],
      "metadata": {
        "colab": {
          "base_uri": "https://localhost:8080/",
          "height": 211
        },
        "id": "hVh2L_-L4y8j",
        "outputId": "ac0ad933-ce43-4c9f-b114-ad3171905750"
      },
      "execution_count": null,
      "outputs": [
        {
          "output_type": "stream",
          "name": "stdout",
          "text": [
            "Amazon\n",
            "Äli\n"
          ]
        },
        {
          "output_type": "error",
          "ename": "AttributeError",
          "evalue": "'BusinessAccount' object has no attribute '_balance'",
          "traceback": [
            "\u001b[0;31m---------------------------------------------------------------------------\u001b[0m",
            "\u001b[0;31mAttributeError\u001b[0m                            Traceback (most recent call last)",
            "\u001b[0;32m<ipython-input-50-9e146f2faf8f>\u001b[0m in \u001b[0;36m<cell line: 0>\u001b[0;34m()\u001b[0m\n\u001b[1;32m      8\u001b[0m \u001b[0mprint\u001b[0m\u001b[0;34m(\u001b[0m\u001b[0mbusiness_account\u001b[0m\u001b[0;34m.\u001b[0m\u001b[0mcompany_name\u001b[0m\u001b[0;34m)\u001b[0m\u001b[0;34m\u001b[0m\u001b[0;34m\u001b[0m\u001b[0m\n\u001b[1;32m      9\u001b[0m \u001b[0mprint\u001b[0m\u001b[0;34m(\u001b[0m\u001b[0mbusiness_account\u001b[0m\u001b[0;34m.\u001b[0m\u001b[0mowner_name\u001b[0m\u001b[0;34m)\u001b[0m\u001b[0;34m\u001b[0m\u001b[0;34m\u001b[0m\u001b[0m\n\u001b[0;32m---> 10\u001b[0;31m \u001b[0mprint\u001b[0m\u001b[0;34m(\u001b[0m\u001b[0mbusiness_account\u001b[0m\u001b[0;34m.\u001b[0m\u001b[0m_balance\u001b[0m\u001b[0;34m)\u001b[0m\u001b[0;34m\u001b[0m\u001b[0;34m\u001b[0m\u001b[0m\n\u001b[0m",
            "\u001b[0;31mAttributeError\u001b[0m: 'BusinessAccount' object has no attribute '_balance'"
          ]
        }
      ]
    },
    {
      "cell_type": "code",
      "source": [
        "a = \"8c\"\n",
        "b = a\n",
        "if a is b:\n",
        "  print(\"True\")\n",
        "else:\n",
        "  print(\"False\")"
      ],
      "metadata": {
        "colab": {
          "base_uri": "https://localhost:8080/"
        },
        "id": "yTLcSbxKFFNv",
        "outputId": "d965ba42-6b04-431a-c388-3654a166123b"
      },
      "execution_count": null,
      "outputs": [
        {
          "output_type": "stream",
          "name": "stdout",
          "text": [
            "True\n"
          ]
        }
      ]
    },
    {
      "cell_type": "code",
      "source": [
        "class Teacher():\n",
        "  def __init__(self,teacher_id:int,teacher_name:str) ->None:\n",
        "    self.teacher_id = teacher_id\n",
        "    self.teacher_name = teacher_name\n",
        "\n",
        "  def speak(self,word:str):\n",
        "    print(f\"{self.teacher_name} says {word}\")\n",
        "\n",
        "  def teaching(self,subject:str):\n",
        "    print(f\"{self.teacher_name} is teaching {subject}\")\n",
        "\n",
        "t1 = Teacher(10,\"Hamzah\")\n",
        "t1.speak(\"Hello\")\n",
        "t1.teaching(\"python\")"
      ],
      "metadata": {
        "colab": {
          "base_uri": "https://localhost:8080/"
        },
        "id": "J7mCtLGRIU1i",
        "outputId": "b5ab1083-6b89-4395-c582-294068f50b26"
      },
      "execution_count": null,
      "outputs": [
        {
          "output_type": "stream",
          "name": "stdout",
          "text": [
            "Hamzah says Hello\n",
            "Hamzah is teaching python\n"
          ]
        }
      ]
    },
    {
      "cell_type": "code",
      "source": [
        "class Teacher():\n",
        "  counter = 0\n",
        "  help_line = \"0311-3536989\"\n",
        "\n",
        "  def __init__(self,teacher_id:int,teacher_name:str) ->None:\n",
        "    self.teacher_id = teacher_id\n",
        "    self.teacher_name = teacher_name\n",
        "\n",
        "  def speak(self,word:str):\n",
        "    print(f\"{self.teacher_name} says {word}\")\n",
        "\n",
        "  def teaching(self,subject:str):\n",
        "    print(f\"{self.teacher_name} is teaching {subject}\")\n",
        "\n",
        "t1 = Teacher(10,\"Hamzah\")\n",
        "t1.speak(\"Hello\")\n",
        "t1.teaching(\"python\")\n",
        "# t1.counter\n",
        "# t1.help_line\n",
        "\n",
        "print(Teacher.help_line)"
      ],
      "metadata": {
        "colab": {
          "base_uri": "https://localhost:8080/"
        },
        "id": "_RQbsgOTc4xO",
        "outputId": "ed0d4b6f-8d8d-4f17-8043-118cd4dcb538"
      },
      "execution_count": null,
      "outputs": [
        {
          "output_type": "stream",
          "name": "stdout",
          "text": [
            "Hamzah says Hello\n",
            "Hamzah is teaching python\n",
            "0311-3536989\n"
          ]
        }
      ]
    },
    {
      "cell_type": "code",
      "source": [
        "class Parents():\n",
        "   def __init__(self)->None:\n",
        "     self.eye_color :str = \"Brown\"\n",
        "     self.hiar_color : str = \"Black\"\n",
        "\n",
        "   def speak(self,word:str):\n",
        "     print(f\"Parent Method Speak {word}\")\n",
        "\n",
        "   def watching(slef,object:str)->None:\n",
        "     print(f\"You are watching {object}\")\n",
        "\n",
        "\n",
        "class Child(Parents):\n",
        "  pass\n",
        "\n",
        "\n",
        "obj1:Parents = Parents()\n",
        "obj1.speak(\"Hello Word\")\n",
        "print(obj1.eye_color)\n",
        "print(obj1.hiar_color)\n",
        "\n",
        "print(\"----------------child Methods------------------\")\n",
        "obj2 = Child()\n",
        "print(obj2.eye_color)"
      ],
      "metadata": {
        "colab": {
          "base_uri": "https://localhost:8080/"
        },
        "id": "eCyTl5nQ0jhV",
        "outputId": "07285016-807e-420c-ef10-e0803171c659"
      },
      "execution_count": null,
      "outputs": [
        {
          "output_type": "stream",
          "name": "stdout",
          "text": [
            "Parent Method Speak Hello Word\n",
            "Brown\n",
            "Black\n",
            "----------------child Methods------------------\n",
            "Brown\n"
          ]
        }
      ]
    },
    {
      "cell_type": "code",
      "source": [
        "class Parents():\n",
        "   def __init__(self)->None:\n",
        "     self.eye_color :str = \"Brown\"\n",
        "     self.hiar_color : str = \"Black\"\n",
        "\n",
        "   def speak(self,word:str):\n",
        "     print(f\"Parent Method Speak {word}\")\n",
        "\n",
        "   def watching(slef,object:str)->None:\n",
        "     print(f\"You are watching {object}\")\n",
        "\n",
        "\n",
        "class Child(Parents):\n",
        "  def teaching(self,subject:str)->None:\n",
        "    print(f\"Child Method Teaching {subject}\")\n",
        "\n",
        "\n",
        "obj1:Parents = Parents()\n",
        "obj1.speak(\"Hello Word\")\n",
        "print(obj1.eye_color)\n",
        "print(obj1.hiar_color)\n",
        "\n",
        "print(\"----------------child Methods------------------\")\n",
        "obj2 = Child()\n",
        "print(obj2.eye_color)\n",
        "obj2.teaching(\"English\")\n"
      ],
      "metadata": {
        "colab": {
          "base_uri": "https://localhost:8080/"
        },
        "id": "e9_rBDse3wco",
        "outputId": "1fd17db0-684a-403a-d498-7631350c5f6e"
      },
      "execution_count": null,
      "outputs": [
        {
          "output_type": "stream",
          "name": "stdout",
          "text": [
            "Parent Method Speak Hello Word\n",
            "Brown\n",
            "Black\n",
            "----------------child Methods------------------\n",
            "Brown\n",
            "Child Method Teaching English\n"
          ]
        }
      ]
    },
    {
      "cell_type": "code",
      "source": [
        "class Parents():\n",
        "  def __init__(self,name:str,caste:str)->None:\n",
        "    self.name = name\n",
        "    self.caste = caste\n",
        "\n",
        "  def speak(self,word:str):\n",
        "    print(f\"Parent Method Speak {word}\")\n",
        "\n",
        "  def teaching(self,subject:str)->None:\n",
        "    print(f\"Child Method Teaching {subject}\")\n",
        "\n",
        "class Child(Parents):\n",
        "     def __init__(self,name):\n",
        "      super().__init__(name\\)\n",
        "      print(\"Child Constructor\")\n",
        "\n",
        "\n",
        "p1 = Parents(\"Ab Qadri\",\"Kalwar\")\n",
        "print(p1.name)\n",
        "print(p1.caste)\n",
        "\n",
        "print(\"_\"*20)\n",
        "\n",
        "c1 = Child(\"Muzaffar Ali\")\n",
        "\n",
        "print(c1.name)\n",
        "print(c1.caste)"
      ],
      "metadata": {
        "colab": {
          "base_uri": "https://localhost:8080/",
          "height": 384
        },
        "id": "n4eWz8Ci20Uw",
        "outputId": "2550a5f4-a025-4281-ca16-7f72d0b7ee35"
      },
      "execution_count": null,
      "outputs": [
        {
          "output_type": "stream",
          "name": "stdout",
          "text": [
            "Ab Qadri\n",
            "Kalwar\n",
            "____________________\n"
          ]
        },
        {
          "output_type": "error",
          "ename": "TypeError",
          "evalue": "Parents.__init__() missing 1 required positional argument: 'caste'",
          "traceback": [
            "\u001b[0;31m---------------------------------------------------------------------------\u001b[0m",
            "\u001b[0;31mTypeError\u001b[0m                                 Traceback (most recent call last)",
            "\u001b[0;32m<ipython-input-8-53d7f4edb818>\u001b[0m in \u001b[0;36m<cell line: 0>\u001b[0;34m()\u001b[0m\n\u001b[1;32m     22\u001b[0m \u001b[0mprint\u001b[0m\u001b[0;34m(\u001b[0m\u001b[0;34m\"_\"\u001b[0m\u001b[0;34m*\u001b[0m\u001b[0;36m20\u001b[0m\u001b[0;34m)\u001b[0m\u001b[0;34m\u001b[0m\u001b[0;34m\u001b[0m\u001b[0m\n\u001b[1;32m     23\u001b[0m \u001b[0;34m\u001b[0m\u001b[0m\n\u001b[0;32m---> 24\u001b[0;31m \u001b[0mc1\u001b[0m \u001b[0;34m=\u001b[0m \u001b[0mChild\u001b[0m\u001b[0;34m(\u001b[0m\u001b[0;34m\"Muzaffar Ali\"\u001b[0m\u001b[0;34m)\u001b[0m\u001b[0;34m\u001b[0m\u001b[0;34m\u001b[0m\u001b[0m\n\u001b[0m\u001b[1;32m     25\u001b[0m \u001b[0;34m\u001b[0m\u001b[0m\n\u001b[1;32m     26\u001b[0m \u001b[0mprint\u001b[0m\u001b[0;34m(\u001b[0m\u001b[0mc1\u001b[0m\u001b[0;34m.\u001b[0m\u001b[0mname\u001b[0m\u001b[0;34m)\u001b[0m\u001b[0;34m\u001b[0m\u001b[0;34m\u001b[0m\u001b[0m\n",
            "\u001b[0;32m<ipython-input-8-53d7f4edb818>\u001b[0m in \u001b[0;36m__init__\u001b[0;34m(self, name)\u001b[0m\n\u001b[1;32m     12\u001b[0m \u001b[0;32mclass\u001b[0m \u001b[0mChild\u001b[0m\u001b[0;34m(\u001b[0m\u001b[0mParents\u001b[0m\u001b[0;34m)\u001b[0m\u001b[0;34m:\u001b[0m\u001b[0;34m\u001b[0m\u001b[0;34m\u001b[0m\u001b[0m\n\u001b[1;32m     13\u001b[0m      \u001b[0;32mdef\u001b[0m \u001b[0m__init__\u001b[0m\u001b[0;34m(\u001b[0m\u001b[0mself\u001b[0m\u001b[0;34m,\u001b[0m\u001b[0mname\u001b[0m\u001b[0;34m)\u001b[0m\u001b[0;34m:\u001b[0m\u001b[0;34m\u001b[0m\u001b[0;34m\u001b[0m\u001b[0m\n\u001b[0;32m---> 14\u001b[0;31m       \u001b[0msuper\u001b[0m\u001b[0;34m(\u001b[0m\u001b[0;34m)\u001b[0m\u001b[0;34m.\u001b[0m\u001b[0m__init__\u001b[0m\u001b[0;34m(\u001b[0m\u001b[0mname\u001b[0m\u001b[0;34m)\u001b[0m\u001b[0;34m\u001b[0m\u001b[0;34m\u001b[0m\u001b[0m\n\u001b[0m\u001b[1;32m     15\u001b[0m       \u001b[0mprint\u001b[0m\u001b[0;34m(\u001b[0m\u001b[0;34m\"Child Constructor\"\u001b[0m\u001b[0;34m)\u001b[0m\u001b[0;34m\u001b[0m\u001b[0;34m\u001b[0m\u001b[0m\n\u001b[1;32m     16\u001b[0m \u001b[0;34m\u001b[0m\u001b[0m\n",
            "\u001b[0;31mTypeError\u001b[0m: Parents.__init__() missing 1 required positional argument: 'caste'"
          ]
        }
      ]
    },
    {
      "cell_type": "code",
      "source": [
        "class Employe():\n",
        "  def __init__(self,name:str,education:str,id_no:int)->None:\n",
        "    self.name:str = name\n",
        "    self.education: str = education\n",
        "    self.id_no:int = id_no\n",
        "\n",
        "class Dsigner(Employe):\n",
        "  def __init__(self,name:str,dsigner_tool:str,education:str,id_no)->None:\n",
        "   super().__init__(name,education,id_no)\n",
        "   self.dsigner_tool:str = dsigner_tool\n",
        "\n",
        "class Developer(Employe):\n",
        "  def __init__(self,name:str,dev_skill:list[str],education:str,id_no:int)->None:\n",
        "    super().__init__(name,education,id_no)\n",
        "    self.dev_skill:list[str] = dev_skill\n",
        "\n",
        "employe_1 :Employe = Employe(\"Muzaffar Ali\",\"Matric\",1)\n",
        "print(employe_1.name)\n",
        "print(employe_1.education)\n",
        "print(employe_1.id_no)\n",
        "print(\"- - \"*20)\n",
        "Dsigner_1 :Dsigner = Dsigner(\"Muzaffar Ali\",\"Photoshop\",\"Inter\",2)\n",
        "print(Dsigner_1.name)\n",
        "print(Dsigner_1.dsigner_tool)\n",
        "print(Dsigner_1.education)\n",
        "print(Dsigner_1.id_no)\n",
        "print(\"- - \"*20)\n",
        "dev_1 = Developer(\"Muzaffar Ali\",[\"Python\",\"HTML\",\"CSS\"],\"Inter\",3)\n",
        "print(dev_1.name)\n",
        "print(dev_1.dev_skill)\n",
        "print(dev_1.education)\n",
        "print(dev_1.id_no)\n"
      ],
      "metadata": {
        "colab": {
          "base_uri": "https://localhost:8080/"
        },
        "id": "IDxaRrBOOyE2",
        "outputId": "55aae6cc-3470-46c0-8e5b-dd2fa7d3c911"
      },
      "execution_count": null,
      "outputs": [
        {
          "output_type": "stream",
          "name": "stdout",
          "text": [
            "Muzaffar Ali\n",
            "Matric\n",
            "1\n",
            "- - - - - - - - - - - - - - - - - - - - - - - - - - - - - - - - - - - - - - - - \n",
            "Muzaffar Ali\n",
            "Photoshop\n",
            "Inter\n",
            "2\n",
            "- - - - - - - - - - - - - - - - - - - - - - - - - - - - - - - - - - - - - - - - \n",
            "Muzaffar Ali\n",
            "['Python', 'HTML', 'CSS']\n",
            "Inter\n",
            "3\n"
          ]
        }
      ]
    }
  ]
}