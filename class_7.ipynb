{
  "nbformat": 4,
  "nbformat_minor": 0,
  "metadata": {
    "colab": {
      "provenance": [],
      "authorship_tag": "ABX9TyNCbIxuz+2sHq2+4SSETTOC",
      "include_colab_link": true
    },
    "kernelspec": {
      "name": "python3",
      "display_name": "Python 3"
    },
    "language_info": {
      "name": "python"
    }
  },
  "cells": [
    {
      "cell_type": "markdown",
      "metadata": {
        "id": "view-in-github",
        "colab_type": "text"
      },
      "source": [
        "<a href=\"https://colab.research.google.com/github/MUZAFFARALIKALWAR/giaic-Q3-Class-code/blob/main/class_7.ipynb\" target=\"_parent\"><img src=\"https://colab.research.google.com/assets/colab-badge.svg\" alt=\"Open In Colab\"/></a>"
      ]
    },
    {
      "cell_type": "code",
      "execution_count": 20,
      "metadata": {
        "colab": {
          "base_uri": "https://localhost:8080/"
        },
        "id": "RAXtTONvG11W",
        "outputId": "c305d61e-5069-4efd-d515-d6ffbfb0f8d2"
      },
      "outputs": [
        {
          "output_type": "stream",
          "name": "stdout",
          "text": [
            "Hello\n",
            "World\n"
          ]
        }
      ],
      "source": [
        "def greet():\n",
        "  yield \"Hello\"\n",
        "  yield \"World\"\n",
        "\n",
        "message = greet()\n",
        "print(next(message))\n",
        "print(next(message))\n"
      ]
    },
    {
      "cell_type": "code",
      "source": [
        "def fibo_gen(limit):\n",
        "    a, b = 0, 1\n",
        "    while a < limit:\n",
        "        yield a\n",
        "        a, b = b, a + b\n",
        "\n",
        "for num in fibo_gen(10):\n",
        "    print(num)\n"
      ],
      "metadata": {
        "id": "hZea-9ooW7AI"
      },
      "execution_count": null,
      "outputs": []
    },
    {
      "cell_type": "code",
      "source": [
        "def num():\n",
        "  yield 1\n",
        "  yield 2\n",
        "  yield 3\n",
        "  yield 4\n",
        "  yield 5\n",
        "\n",
        "for i in num():\n",
        "  print(i,end=\" \",flush=True)"
      ],
      "metadata": {
        "colab": {
          "base_uri": "https://localhost:8080/"
        },
        "id": "4fLPkyOJXA1q",
        "outputId": "dff7ca2b-7ebe-4c00-aea5-9a664ccb72df"
      },
      "execution_count": 36,
      "outputs": [
        {
          "output_type": "stream",
          "name": "stdout",
          "text": [
            "1 2 3 4 5 "
          ]
        }
      ]
    },
    {
      "cell_type": "code",
      "source": [
        "class Student:\n",
        "    def __init__(self,name:str,roll:int,/):\n",
        "      self.name = name\n",
        "      self.roll = roll\n",
        "\n",
        "st1 = Student(\"Muzaffar\",1)\n",
        "print(st1.name,st1.roll)"
      ],
      "metadata": {
        "colab": {
          "base_uri": "https://localhost:8080/"
        },
        "id": "Jbs2a19YYDJy",
        "outputId": "73e76e58-e8bc-4ddc-9eb0-736ad3049047"
      },
      "execution_count": 47,
      "outputs": [
        {
          "output_type": "stream",
          "name": "stdout",
          "text": [
            "Muzaffar 1\n"
          ]
        }
      ]
    }
  ]
}